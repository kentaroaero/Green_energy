{
 "cells": [
  {
   "cell_type": "markdown",
   "id": "manufactured-arizona",
   "metadata": {},
   "source": [
    "# Get GEE ready"
   ]
  },
  {
   "cell_type": "code",
   "execution_count": 17,
   "id": "dedicated-thinking",
   "metadata": {},
   "outputs": [
    {
     "data": {
      "text/html": [
       "<p>To authorize access needed by Earth Engine, open the following\n",
       "        URL in a web browser and follow the instructions:</p>\n",
       "        <p><a href=https://accounts.google.com/o/oauth2/auth?client_id=517222506229-vsmmajv00ul0bs7p89v5m89qs8eb9359.apps.googleusercontent.com&scope=https%3A%2F%2Fwww.googleapis.com%2Fauth%2Fearthengine+https%3A%2F%2Fwww.googleapis.com%2Fauth%2Fdevstorage.full_control&redirect_uri=urn%3Aietf%3Awg%3Aoauth%3A2.0%3Aoob&response_type=code&code_challenge=1jIku6kYEU0QQ9_vx0Is88cOwc54wWwCInF281aYfRI&code_challenge_method=S256>https://accounts.google.com/o/oauth2/auth?client_id=517222506229-vsmmajv00ul0bs7p89v5m89qs8eb9359.apps.googleusercontent.com&scope=https%3A%2F%2Fwww.googleapis.com%2Fauth%2Fearthengine+https%3A%2F%2Fwww.googleapis.com%2Fauth%2Fdevstorage.full_control&redirect_uri=urn%3Aietf%3Awg%3Aoauth%3A2.0%3Aoob&response_type=code&code_challenge=1jIku6kYEU0QQ9_vx0Is88cOwc54wWwCInF281aYfRI&code_challenge_method=S256</a></p>\n",
       "        <p>The authorization workflow will generate a code, which you\n",
       "        should paste in the box below</p>\n",
       "        "
      ],
      "text/plain": [
       "<IPython.core.display.HTML object>"
      ]
     },
     "metadata": {},
     "output_type": "display_data"
    },
    {
     "name": "stdout",
     "output_type": "stream",
     "text": [
      "Enter verification code: 4/1AY0e-g7366YswCoK4BVOJ58zdIloGHdJj9m6CNfafhNSJYz6sq2xLJCwEG8\n",
      "\n",
      "Successfully saved authorization token.\n"
     ]
    }
   ],
   "source": [
    "# Earth Engine Python APIのインポート\n",
    "import ee\n",
    "# GEEの認証・初期化\n",
    "ee.Authenticate()\n",
    "ee.Initialize()"
   ]
  },
  {
   "cell_type": "markdown",
   "id": "floral-backup",
   "metadata": {},
   "source": [
    "# Import"
   ]
  },
  {
   "cell_type": "code",
   "execution_count": 106,
   "id": "going-grant",
   "metadata": {},
   "outputs": [],
   "source": [
    "import numpy as np\n",
    "import matplotlib.pyplot as plt\n",
    "from datetime import date\n",
    "from datetime import timedelta\n",
    "import netCDF4\n",
    "from scipy import interpolate"
   ]
  },
  {
   "cell_type": "markdown",
   "id": "charitable-conspiracy",
   "metadata": {},
   "source": [
    "# Set up functions and params"
   ]
  },
  {
   "cell_type": "code",
   "execution_count": 19,
   "id": "threatened-geometry",
   "metadata": {},
   "outputs": [],
   "source": [
    "def date_range(start, stop, step = timedelta(1)):\n",
    "    current = start\n",
    "    while current < stop:\n",
    "        yield current\n",
    "        current += step"
   ]
  },
  {
   "cell_type": "code",
   "execution_count": 86,
   "id": "mechanical-candle",
   "metadata": {},
   "outputs": [],
   "source": [
    "params = {'lon_min': 140.2,\n",
    "         'lon_max': 141.2,\n",
    "          'lat_min': 35.3,\n",
    "          'lat_max': 36.3,\n",
    "          'gridwidth': 0.25,\n",
    "          'gravity': 9.8,\n",
    "          'sea_density': 1.023, #t/m^3\n",
    "          'area': 1000, #m^2\n",
    "         }"
   ]
  },
  {
   "cell_type": "markdown",
   "id": "identical-tours",
   "metadata": {},
   "source": [
    "# Get wind data"
   ]
  },
  {
   "cell_type": "code",
   "execution_count": 51,
   "id": "ancient-stations",
   "metadata": {},
   "outputs": [],
   "source": [
    "# Area of Interest \n",
    "aoi = ee.Geometry.Polygon(\n",
    "  [[[params['lon_min'], params['lat_min']],\n",
    "    [params['lon_min'], params['lat_max']],\n",
    "    [params['lon_max'], params['lat_max']],\n",
    "    [params['lon_max'], params['lat_min']]]], None, False)"
   ]
  },
  {
   "cell_type": "code",
   "execution_count": 76,
   "id": "several-hollywood",
   "metadata": {},
   "outputs": [],
   "source": [
    "img_col = ee.ImageCollection(\"ECMWF/ERA5/DAILY\") \\\n",
    "                    .select(['u_component_of_wind_10m', 'v_component_of_wind_10m']) \\\n",
    "                    .filter(ee.Filter.date('2020-01-01', '2020-12-31'))"
   ]
  },
  {
   "cell_type": "code",
   "execution_count": 77,
   "id": "spiritual-methodology",
   "metadata": {},
   "outputs": [],
   "source": [
    "index_num=0\n",
    "tent_np_array_u = np.zeros((5, 5))\n",
    "tent_np_array_v = np.zeros((5, 5))\n",
    "date_start=date(2020, 1, 1)\n",
    "date_end=date(2020, 6, 30)"
   ]
  },
  {
   "cell_type": "code",
   "execution_count": 78,
   "id": "aging-assurance",
   "metadata": {},
   "outputs": [
    {
     "name": "stdout",
     "output_type": "stream",
     "text": [
      "Loading data on 2020-01-02 now\n",
      "Loading data on 2020-01-22 now\n",
      "Loading data on 2020-02-11 now\n",
      "Loading data on 2020-03-02 now\n",
      "Loading data on 2020-03-22 now\n",
      "Loading data on 2020-04-11 now\n",
      "Loading data on 2020-05-01 now\n",
      "Loading data on 2020-05-21 now\n",
      "Loading data on 2020-06-10 now\n",
      "index_num is: 181\n"
     ]
    }
   ],
   "source": [
    "for d in date_range(date_start, date_end):\n",
    "    if index_num % 20 == 1:\n",
    "        print('Loading data on {} now'.format(d))\n",
    "    img_date = img_col.filter(ee.Filter.date('{}'.format(d))).first()\n",
    "    band_arrs = img_date.sampleRectangle(region=aoi)\n",
    "    band_arr_u = band_arrs.get('u_component_of_wind_10m')\n",
    "    band_arr_v = band_arrs.get('v_component_of_wind_10m')\n",
    "    np_arr_u = np.array(band_arr_u.getInfo())\n",
    "    np_arr_v = np.array(band_arr_v.getInfo())\n",
    "    tent_np_array_u += np_arr_u\n",
    "    tent_np_array_v += np_arr_v\n",
    "    index_num += 1\n",
    "print('index_num is: {}'.format(index_num))"
   ]
  },
  {
   "cell_type": "code",
   "execution_count": 79,
   "id": "cellular-brighton",
   "metadata": {},
   "outputs": [],
   "source": [
    "year_ave_wind_u=tent_np_array_u/index_num\n",
    "year_ave_wind_v=tent_np_array_v/index_num"
   ]
  },
  {
   "cell_type": "markdown",
   "id": "multiple-hands",
   "metadata": {},
   "source": [
    "# Get wave data"
   ]
  },
  {
   "cell_type": "code",
   "execution_count": 13,
   "id": "instrumental-makeup",
   "metadata": {},
   "outputs": [],
   "source": [
    "filename=\\\n",
    "'/Users/taniguchikentaro/Documents/projects/Tide_energy/global-analysis-forecast-wav-001-027_1615346002999.nc'\n",
    "nc = netCDF4.Dataset(filename, 'r')\n",
    "\n",
    "wave_height = nc.variables['VHM0_WW'][:]\n",
    "wave_direction = nc.variables['VMDR'][:]\n",
    "\n",
    "tent_height = np.zeros((13, 13))\n",
    "tent_direction = np.zeros((13, 13))\n",
    "\n",
    "for i in range(wave_height.shape[0]):\n",
    "    tent_height += wave_height[i]\n",
    "    tent_direction += wave_direction[i]\n",
    "\n",
    "tent_height = np.where(tent_height < 1, 0, tent_height)\n",
    "tent_direction = np.where(tent_direction < 1, 0, tent_direction)\n",
    "    \n",
    "year_ave_height = tent_height/wave_height.shape[0]\n",
    "year_ave_direction = tent_direction/wave_direction.shape[0]"
   ]
  },
  {
   "cell_type": "markdown",
   "id": "exposed-sydney",
   "metadata": {},
   "source": [
    "# Get tide data"
   ]
  },
  {
   "cell_type": "code",
   "execution_count": 88,
   "id": "hybrid-activity",
   "metadata": {},
   "outputs": [],
   "source": [
    "def get_height(filename):\n",
    "    \n",
    "    names = ['year', 'month', 'date', 'loc', 'h1_t', 'h1_h', 'h2_t', 'h2_h', 'h3_t', 'h3_h', 'h4_t', 'h4_h', 'l1_t', 'l1_h', 'l2_t', 'l2_h', 'l3_t', 'l3_h', 'l4_t', 'l4_h']\n",
    "    df = pd.read_csv(filename, names=names)\n",
    "\n",
    "    #干潮満潮がない場合を排除する\n",
    "    df = df.replace([999, 9999], np.nan)\n",
    "\n",
    "    height_01=df['h1_h']-df['l1_h']\n",
    "    height_02=df['h2_h']-df['l2_h']\n",
    "    height_ave=(height_01.mean()+height_02.mean())/2\n",
    "    height_sum=(height_01.sum()+height_02.sum())*0.01\n",
    "    return height_ave, height_sum"
   ]
  },
  {
   "cell_type": "code",
   "execution_count": 97,
   "id": "guilty-trail",
   "metadata": {},
   "outputs": [
    {
     "name": "stdout",
     "output_type": "stream",
     "text": [
      "At Choshi, height ave is 71.23 cm, height sum is 476.13 m\n",
      "At Kashima, height ave is 72.31 cm, height sum is 482.97 m\n"
     ]
    }
   ],
   "source": [
    "filename1='Choshi_2020.csv'\n",
    "filename2='Kashima_2020.csv'\n",
    "\n",
    "h_ave_Choshi, h_sum_Choshi = get_height(filename1)\n",
    "h_ave_Kashima, h_sum_Kashima = get_height(filename2)\n",
    "\n",
    "h_ave_Choshi = round(h_ave_Choshi, 2)\n",
    "h_ave_Kashima = round(h_ave_Kashima, 2)\n",
    "\n",
    "print('At Choshi, height ave is {} cm, height sum is {} m' \\\n",
    "      .format(h_ave_Choshi, h_sum_Choshi))\n",
    "print('At Kashima, height ave is {} cm, height sum is {} m' \\\n",
    "      .format(h_ave_Kashima, h_sum_Kashima))"
   ]
  },
  {
   "cell_type": "markdown",
   "id": "posted-serve",
   "metadata": {},
   "source": [
    "# Plot a map"
   ]
  },
  {
   "cell_type": "code",
   "execution_count": 104,
   "id": "major-incidence",
   "metadata": {},
   "outputs": [
    {
     "data": {
      "image/png": "[encoded data removed]",
      "text/plain": [
       "<Figure size 576x576 with 1 Axes>"
      ]
     },
     "metadata": {},
     "output_type": "display_data"
    }
   ],
   "source": [
    "import pandas as pd\n",
    "import geopandas as gpd\n",
    "import matplotlib.pyplot as plt\n",
    "\n",
    "\n",
    "df = gpd.read_file('/Users/taniguchikentaro/Documents/projects/Tide_energy/land-master/japan.geojson')\n",
    "\n",
    "# Create map basis with map\n",
    "with plt.style.context(\"ggplot\"):\n",
    "    df.plot(figsize=(8,8), edgecolor='#444', facecolor='white', linewidth = 0.5);\n",
    "    plt.xlim([params['lon_min']-0.1,params['lon_max']+0.1])\n",
    "    plt.ylim([params['lat_min']-0.1,params['lat_max']+0.1])\n",
    "    plt.xticks(np.linspace(params['lon_min'], params['lon_max'], num=6))\n",
    "    plt.yticks(np.linspace(params['lat_min'], params['lat_max'], num=6))\n",
    "\n",
    "#Set x and y ticks centers for wind vectors\n",
    "xticks_grid=np.linspace(params['lon_min'], params['lon_max'], num=6)\n",
    "yticks_grid=np.linspace(params['lat_min'], params['lat_max'], num=6)\n",
    "xticks_center=(xticks_grid[:-1]+xticks_grid[1:])/2\n",
    "yticks_center=(yticks_grid[:-1]+yticks_grid[1:])/2\n",
    "gridwidth=(params['lon_max']-params['lon_min'])/5\n",
    "\n",
    "#create mesh for wind vectors\n",
    "X_wind, Y_wind= np.meshgrid(xticks_center, yticks_center)\n",
    "plt.quiver(X_wind, Y_wind, year_ave_wind_u, year_ave_wind_v, color='blue',angles='xy',scale_units='xy', scale=20)\n",
    "\n",
    "#create mesh for wave vectors\n",
    "X_wave, Y_wave = np.meshgrid(longitude, latitude)\n",
    "u_wave=year_ave_height*np.cos(year_ave_direction)\n",
    "v_wave=year_ave_height*np.sin(year_ave_direction)\n",
    "plt.quiver(X_wave, Y_wave, u_wave, v_wave,color='red',angles='xy',scale_units='xy', scale=15)\n",
    "\n",
    "#Plot Tide energy data and measurement points\n",
    "plt.text(140.40,35.72, 'Choshi, {} cm'.format(h_ave_Choshi), fontsize=14)\n",
    "plt.plot(140.87,35.74, marker='o', color='blue', markersize=10)\n",
    "plt.text(140.20,35.92, 'Kashima, {} cm'.format(h_ave_Kashima), fontsize=14)\n",
    "plt.plot(140.68,35.92, marker='o', color='green', markersize=10)\n",
    "\n",
    "plt.show()"
   ]
  },
  {
   "cell_type": "markdown",
   "id": "rolled-beginning",
   "metadata": {},
   "source": [
    "# Compare results"
   ]
  },
  {
   "cell_type": "code",
   "execution_count": 121,
   "id": "scenic-provision",
   "metadata": {},
   "outputs": [],
   "source": [
    "#set a check point\n",
    "long = 140.8\n",
    "lat = 35.92"
   ]
  },
  {
   "cell_type": "code",
   "execution_count": 122,
   "id": "administrative-ending",
   "metadata": {},
   "outputs": [
    {
     "name": "stdout",
     "output_type": "stream",
     "text": [
      "Wave height is 0.4 m at the specified point\n"
     ]
    }
   ],
   "source": [
    "f_wave = interpolate.interp2d(X_wave, Y_wave, year_ave_height)\n",
    "wave_height_here = round(f_wave(long, lat)[0], 2)\n",
    "print('Wave height is {} m at a specified point'.format(wave_height_here))"
   ]
  },
  {
   "cell_type": "code",
   "execution_count": 124,
   "id": "turkish-ghost",
   "metadata": {},
   "outputs": [
    {
     "name": "stdout",
     "output_type": "stream",
     "text": [
      "Wind magnitude is 0.78 m/s at a specified point\n"
     ]
    }
   ],
   "source": [
    "year_ave_wind_mag = (year_ave_wind_u**2+year_ave_wind_v**2)**0.5\n",
    "f_wind = interpolate.interp2d(X_wind, Y_wind, year_ave_wind_mag)\n",
    "wind_mag_here = round(f_wind(long, lat)[0], 2)\n",
    "print('Wind magnitude is {} m/s at a specified point'.format(wind_mag_here))"
   ]
  },
  {
   "cell_type": "code",
   "execution_count": null,
   "id": "obvious-dividend",
   "metadata": {},
   "outputs": [],
   "source": []
  }
 ],
 "metadata": {
  "kernelspec": {
   "display_name": "Python 3",
   "language": "python",
   "name": "python3"
  },
  "language_info": {
   "codemirror_mode": {
    "name": "ipython",
    "version": 3
   },
   "file_extension": ".py",
   "mimetype": "text/x-python",
   "name": "python",
   "nbconvert_exporter": "python",
   "pygments_lexer": "ipython3",
   "version": "3.7.7"
  }
 },
 "nbformat": 4,
 "nbformat_minor": 5
}
